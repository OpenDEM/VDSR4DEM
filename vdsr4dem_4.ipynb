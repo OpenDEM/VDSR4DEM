{
  "nbformat": 4,
  "nbformat_minor": 0,
  "metadata": {
    "accelerator": "GPU",
    "colab": {
      "name": "vdsr4dem_4.ipynb",
      "provenance": [],
      "collapsed_sections": [],
      "toc_visible": true,
      "machine_shape": "hm"
    },
    "kernelspec": {
      "display_name": "Python 3",
      "name": "python3"
    }
  },
  "cells": [
    {
      "cell_type": "markdown",
      "metadata": {
        "id": "idupnGQ-I-UC"
      },
      "source": [
        "VDSR for DEM processing - Filter 4*4\n",
        "====================================\n",
        "Very Deep Super Resolution (VDSR) CNN based on the implementation of George Seif [GitHub](https://github.com/GeorgeSeif/VDSR-Keras).\n",
        "Thanks to [Zushicat](https://github.com/zushicat) for the support.\n",
        "\n",
        "An implementation of the Super Resolution CNN proposed in:\n",
        "\n",
        "[Kim, Jiwon, Jung Kwon Lee, and Kyoung Mu Lee. \"Accurate image super-resolution using very deep convolutional networks.\" Proceedings of the IEEE Conference on Computer Vision and Pattern Recognition. 2016.](https://arxiv.org/abs/1511.04587)\n",
        "\n",
        "This Notebook is running on Google Colab with data storage on Google Drive. Of course this could be adapted to local resources.\n"
      ]
    },
    {
      "cell_type": "code",
      "metadata": {
        "colab": {
          "base_uri": "https://localhost:8080/"
        },
        "id": "xXvhPyws9-T7",
        "outputId": "f0873af7-c1f6-455e-c5b1-fab157a2b210"
      },
      "source": [
        "import os\n",
        "# connect with google drive  \n",
        "from google.colab import drive\n",
        "drive.mount(\"/content/drive\")"
      ],
      "execution_count": 2,
      "outputs": [
        {
          "output_type": "stream",
          "text": [
            "Mounted at /content/drive\n"
          ],
          "name": "stdout"
        }
      ]
    },
    {
      "cell_type": "markdown",
      "metadata": {
        "id": "gIqPFMfvI9AE"
      },
      "source": [
        "Training\n",
        "--------\n",
        "**This part could be skipped if you like to use the prepared weights.**\n",
        "\n",
        "Download the training, test and validation data of the austrian DTM [here](https://www.openmaps.online/data/austria_dtm.zip). License: Data by - Geoland.at (2019) - CC BY 4.0 (CC BY 4.0)\n",
        "\n",
        "When using own data, make sure that the low resolution images are upsampled to 300*300 px. Input size for both datasets must be 300 * 300 px for this CNN."
      ]
    },
    {
      "cell_type": "markdown",
      "metadata": {
        "id": "3_AGZx2bNS8g"
      },
      "source": [
        "Get rasterio for GeoTiff processing"
      ]
    },
    {
      "cell_type": "code",
      "metadata": {
        "id": "vxoYac2yx9lS"
      },
      "source": [
        "!pip install rasterio"
      ],
      "execution_count": null,
      "outputs": []
    },
    {
      "cell_type": "code",
      "metadata": {
        "id": "pPMTTGgtZHYd"
      },
      "source": [
        "import os\n",
        "import tensorflow as tf\n",
        "import numpy as np\n",
        "import rasterio\n",
        "from tensorflow.python.data.experimental import AUTOTUNE\n",
        "from rasterio.plot import reshape_as_image, reshape_as_raster, show\n",
        "import re\n",
        "\n",
        "# adapt your paths\n",
        "HR_PATH_TRAIN = \"/content/drive/My Drive/vdsr4dem/hr_train\"\n",
        "LR_PATH_TRAIN = \"/content/drive/My Drive/vdsr4dem/lr_train\"\n",
        "HR_PATH_VAL = \"/content/drive/My Drive/vdsr4dem/hr_valid\"\n",
        "LR_PATH_VAL = \"/content/drive/My Drive/vdsr4dem/lr_valid\"\n",
        "\n",
        "# maximal and minimal values of the whole trainings dataset\n",
        "ds_max = 3150\n",
        "ds_min = 170\n",
        "\n",
        "# use human sorting to avoid problems with the order of the files for training and validation\n",
        "def atoi(text):\n",
        "    return int(text) if text.isdigit() else text\n",
        "\n",
        "def natural_keys(text):\n",
        "    return [ atoi(c) for c in re.split(r'(\\d+)', text) ]\n",
        "\n",
        "def _images_dataset(image_files):    \n",
        "    listAll = []\n",
        "    for img in image_files:\n",
        "        with rasterio.open(img) as src:\n",
        "            array = src.read(\n",
        "                out_shape=(\n",
        "                    src.count,\n",
        "                    int(src.height),\n",
        "                    int(src.width)\n",
        "                )\n",
        "            )\n",
        "            array = reshape_as_image(array)            \n",
        "            lr = (array - ds_min) / (ds_max - ds_min)\n",
        "            listAll.append(lr)        \n",
        "    ds = tf.data.Dataset.from_tensor_slices(listAll)\n",
        "    #print(ds)\n",
        "    return ds\n",
        "\n",
        "def _get_dataset(path, num_images):\n",
        "    file_names = [f\"{path}/{x}\" for x in os.listdir(path) if x.find(\".tif\") != -1]\n",
        "    if num_images is not None:\n",
        "        file_names = file_names[:num_images]\n",
        "    print(\"--->\", len(file_names))\n",
        "    file_names.sort(key=natural_keys)\n",
        "    print(file_names)\n",
        "    ds = _images_dataset(file_names)    \n",
        "    return ds\n",
        "\n",
        "\n",
        "def dataset(batch_size=16, repeat_count=None, random_transform=True, use_set=\"train\", num_images=None):\n",
        "    print(num_images)\n",
        "    if use_set == \"train\":\n",
        "        print('LR_PATH_TRAIN')\n",
        "        lr_ds = _get_dataset(LR_PATH_TRAIN, num_images)\n",
        "        print('HR_PATH_TRAIN')\n",
        "        hr_ds = _get_dataset(HR_PATH_TRAIN, num_images)\n",
        "    elif use_set == \"val\":\n",
        "        print('LR_PATH_VAL')\n",
        "        lr_ds = _get_dataset(LR_PATH_VAL, num_images)\n",
        "        print('HR_PATH_VAL')\n",
        "        hr_ds = _get_dataset(HR_PATH_VAL, num_images)\n",
        "    else:\n",
        "        return None\n",
        "    \n",
        "    ds = tf.data.Dataset.zip((lr_ds, hr_ds))\n",
        "    ds = ds.batch(batch_size)\n",
        "    ds = ds.prefetch(buffer_size=AUTOTUNE)\n",
        "    return ds\n",
        "\n",
        "if __name__ == \"__main__\":\n",
        "    # To avoid problems with the order of the files always set num_images to the real number of images in the folder!\n",
        "    train_ds = dataset(batch_size=16, use_set=\"train\", num_images=30)\n",
        "    val_ds = dataset(batch_size=1, use_set=\"val\", num_images=30)\n",
        "    print(\"done all\")"
      ],
      "execution_count": null,
      "outputs": []
    },
    {
      "cell_type": "markdown",
      "metadata": {
        "id": "6twCsQBWJkXY"
      },
      "source": [
        "VDSR Model Filter Kernel 4*4 , 20 Conv2D layers"
      ]
    },
    {
      "cell_type": "code",
      "metadata": {
        "id": "jzoWQQHCnksk"
      },
      "source": [
        "from keras import Sequential\n",
        "from keras.layers import Conv2D\n",
        "from keras.models import Sequential, Model\n",
        "from keras.layers import Dense, Activation, Input, add\n",
        "from keras import optimizers\n",
        "from keras import losses\n",
        "from keras.optimizers import Adam\n",
        "import tensorflow as tf\n",
        "\n",
        "IMG_SIZE = (300, 300, 1)\n",
        "\n",
        "model = Sequential()\n",
        "\n",
        "input_img = Input(shape=IMG_SIZE)\n",
        "\n",
        "model = Conv2D(64, (4, 4), padding='same', kernel_initializer='he_normal')(input_img)\n",
        "model = Activation('relu')(model)\n",
        "model = Conv2D(64, (4, 4), padding='same', kernel_initializer='he_normal')(model)\n",
        "model = Activation('relu')(model)\n",
        "model = Conv2D(64, (4, 4), padding='same', kernel_initializer='he_normal')(model)\n",
        "model = Activation('relu')(model)\n",
        "model = Conv2D(64, (4, 4), padding='same', kernel_initializer='he_normal')(model)\n",
        "model = Activation('relu')(model)\n",
        "model = Conv2D(64, (4, 4), padding='same', kernel_initializer='he_normal')(model)\n",
        "model = Activation('relu')(model)\n",
        "\n",
        "model = Conv2D(64, (4, 4), padding='same', kernel_initializer='he_normal')(model)\n",
        "model = Activation('relu')(model)\n",
        "model = Conv2D(64, (4, 4), padding='same', kernel_initializer='he_normal')(model)\n",
        "model = Activation('relu')(model)\n",
        "model = Conv2D(64, (4, 4), padding='same', kernel_initializer='he_normal')(model)\n",
        "model = Activation('relu')(model)\n",
        "model = Conv2D(64, (4, 4), padding='same', kernel_initializer='he_normal')(model)\n",
        "model = Activation('relu')(model)\n",
        "model = Conv2D(64, (4, 4), padding='same', kernel_initializer='he_normal')(model)\n",
        "model = Activation('relu')(model)\n",
        "\n",
        "model = Conv2D(64, (4, 4), padding='same', kernel_initializer='he_normal')(model)\n",
        "model = Activation('relu')(model)\n",
        "model = Conv2D(64, (4, 4), padding='same', kernel_initializer='he_normal')(model)\n",
        "model = Activation('relu')(model)\n",
        "model = Conv2D(64, (4, 4), padding='same', kernel_initializer='he_normal')(model)\n",
        "model = Activation('relu')(model)\n",
        "model = Conv2D(64, (4, 4), padding='same', kernel_initializer='he_normal')(model)\n",
        "model = Activation('relu')(model)\n",
        "model = Conv2D(64, (4, 4), padding='same', kernel_initializer='he_normal')(model)\n",
        "model = Activation('relu')(model)\n",
        "\n",
        "model = Conv2D(64, (4, 4), padding='same', kernel_initializer='he_normal')(model)\n",
        "model = Activation('relu')(model)\n",
        "model = Conv2D(64, (4, 4), padding='same', kernel_initializer='he_normal')(model)\n",
        "model = Activation('relu')(model)\n",
        "model = Conv2D(64, (4, 4), padding='same', kernel_initializer='he_normal')(model)\n",
        "model = Activation('relu')(model)\n",
        "model = Conv2D(64, (4, 4), padding='same', kernel_initializer='he_normal')(model)\n",
        "model = Activation('relu')(model)\n",
        "model = Conv2D(1, (4, 4), padding='same', kernel_initializer='he_normal')(model)\n",
        "\n",
        "res_img = model\n",
        "\n",
        "output_img = add([res_img, input_img])\n",
        "\n",
        "model = Model(input_img, output_img)\n",
        "\n",
        "adam = Adam(lr=0.00001)\n",
        "model.compile(adam, loss='mse', metrics=[tf.keras.metrics.MeanAbsoluteError()])"
      ],
      "execution_count": 35,
      "outputs": []
    },
    {
      "cell_type": "markdown",
      "metadata": {
        "id": "8Ue_jX8wJ46A"
      },
      "source": [
        "Fit the Model"
      ]
    },
    {
      "cell_type": "code",
      "metadata": {
        "id": "34jeS3_Y8uop"
      },
      "source": [
        "from keras.callbacks import ModelCheckpoint\n",
        "\n",
        "# adapt path\n",
        "checkpoint = ModelCheckpoint(\"/content/drive/My Drive/vdsr4dem/weights/vdsr4dem_4_new.h5\", monitor='loss', verbose=1, save_best_only=True, mode='auto', save_weights_only=True)\n",
        "# adapt epochs\n",
        "model.fit(train_ds, epochs=25, validation_data=val_ds, callbacks=[checkpoint])"
      ],
      "execution_count": null,
      "outputs": []
    },
    {
      "cell_type": "markdown",
      "metadata": {
        "id": "xw3dj85BNTRM"
      },
      "source": [
        "Visualization of the loss"
      ]
    },
    {
      "cell_type": "code",
      "metadata": {
        "colab": {
          "base_uri": "https://localhost:8080/",
          "height": 295
        },
        "id": "NzDiuhbEFIAX",
        "outputId": "85a296d4-7c19-4ac6-ac66-181018780ec0"
      },
      "source": [
        "import matplotlib.pyplot as plt\n",
        "plt.plot(model.history.history['loss'])\n",
        "plt.plot(model.history.history['val_loss'])\n",
        "plt.title('model loss')\n",
        "plt.ylabel('loss')\n",
        "plt.xlabel('epoch')\n",
        "plt.legend(['train', 'test'], loc='upper left')\n",
        "plt.show()"
      ],
      "execution_count": 37,
      "outputs": [
        {
          "output_type": "display_data",
          "data": {
            "image/png": "[encoded data removed]",
            "text/plain": [
              "<Figure size 432x288 with 1 Axes>"
            ]
          },
          "metadata": {
            "tags": [],
            "needs_background": "light"
          }
        }
      ]
    },
    {
      "cell_type": "markdown",
      "metadata": {
        "id": "qDY-OczRNyFr"
      },
      "source": [
        "Visualization of the mean absolute error"
      ]
    },
    {
      "cell_type": "code",
      "metadata": {
        "colab": {
          "base_uri": "https://localhost:8080/",
          "height": 295
        },
        "id": "etCQ6U47NvnO",
        "outputId": "084aaebe-10dc-4cd1-fa67-46f90e4311d4"
      },
      "source": [
        "import matplotlib.pyplot as plt\n",
        "plt.plot(model.history.history['mean_absolute_error'])\n",
        "plt.plot(model.history.history['val_mean_absolute_error'])\n",
        "plt.title('mean absolute error')\n",
        "plt.ylabel('mean absolute error')\n",
        "plt.xlabel('epoch')\n",
        "plt.legend(['train', 'test'], loc='upper left')\n",
        "plt.show()"
      ],
      "execution_count": 38,
      "outputs": [
        {
          "output_type": "display_data",
          "data": {
            "image/png": "[encoded data removed]",
            "text/plain": [
              "<Figure size 432x288 with 1 Axes>"
            ]
          },
          "metadata": {
            "tags": [],
            "needs_background": "light"
          }
        }
      ]
    },
    {
      "cell_type": "markdown",
      "metadata": {
        "id": "bg41axVhUvo0"
      },
      "source": [
        "Processing\n",
        "--------"
      ]
    },
    {
      "cell_type": "markdown",
      "metadata": {
        "id": "FOifYwxfJ9JZ"
      },
      "source": [
        "VDSR Model Filter Kernel 4*4 , 20 Conv2D layers\n",
        "\n",
        "The landscape of the test area (Austria) is formed by fluvial and glacial erosion. Thus the model may not fit to other landscapes.\n",
        "\n"
      ]
    },
    {
      "cell_type": "markdown",
      "metadata": {
        "id": "YCUO3kpYJuDO"
      },
      "source": [
        "**Skip the next step when training was applied before!**"
      ]
    },
    {
      "cell_type": "code",
      "metadata": {
        "id": "O6Jb-0eIJvKJ"
      },
      "source": [
        "from keras import Sequential\n",
        "from keras.layers import Conv2D\n",
        "from keras.models import Sequential, Model\n",
        "from keras.layers import Dense, Activation, Input, add\n",
        "from keras import optimizers\n",
        "from keras import losses\n",
        "from keras.optimizers import Adam\n",
        "import tensorflow as tf\n",
        "\n",
        "IMG_SIZE = (300, 300, 1)\n",
        "\n",
        "model = Sequential()\n",
        "\n",
        "input_img = Input(shape=IMG_SIZE)\n",
        "\n",
        "model = Conv2D(64, (4, 4), padding='same', kernel_initializer='he_normal')(input_img)\n",
        "model = Activation('relu')(model)\n",
        "model = Conv2D(64, (4, 4), padding='same', kernel_initializer='he_normal')(model)\n",
        "model = Activation('relu')(model)\n",
        "model = Conv2D(64, (4, 4), padding='same', kernel_initializer='he_normal')(model)\n",
        "model = Activation('relu')(model)\n",
        "model = Conv2D(64, (4, 4), padding='same', kernel_initializer='he_normal')(model)\n",
        "model = Activation('relu')(model)\n",
        "model = Conv2D(64, (4, 4), padding='same', kernel_initializer='he_normal')(model)\n",
        "model = Activation('relu')(model)\n",
        "\n",
        "model = Conv2D(64, (4, 4), padding='same', kernel_initializer='he_normal')(model)\n",
        "model = Activation('relu')(model)\n",
        "model = Conv2D(64, (4, 4), padding='same', kernel_initializer='he_normal')(model)\n",
        "model = Activation('relu')(model)\n",
        "model = Conv2D(64, (4, 4), padding='same', kernel_initializer='he_normal')(model)\n",
        "model = Activation('relu')(model)\n",
        "model = Conv2D(64, (4, 4), padding='same', kernel_initializer='he_normal')(model)\n",
        "model = Activation('relu')(model)\n",
        "model = Conv2D(64, (4, 4), padding='same', kernel_initializer='he_normal')(model)\n",
        "model = Activation('relu')(model)\n",
        "\n",
        "model = Conv2D(64, (4, 4), padding='same', kernel_initializer='he_normal')(model)\n",
        "model = Activation('relu')(model)\n",
        "model = Conv2D(64, (4, 4), padding='same', kernel_initializer='he_normal')(model)\n",
        "model = Activation('relu')(model)\n",
        "model = Conv2D(64, (4, 4), padding='same', kernel_initializer='he_normal')(model)\n",
        "model = Activation('relu')(model)\n",
        "model = Conv2D(64, (4, 4), padding='same', kernel_initializer='he_normal')(model)\n",
        "model = Activation('relu')(model)\n",
        "model = Conv2D(64, (4, 4), padding='same', kernel_initializer='he_normal')(model)\n",
        "model = Activation('relu')(model)\n",
        "\n",
        "model = Conv2D(64, (4, 4), padding='same', kernel_initializer='he_normal')(model)\n",
        "model = Activation('relu')(model)\n",
        "model = Conv2D(64, (4, 4), padding='same', kernel_initializer='he_normal')(model)\n",
        "model = Activation('relu')(model)\n",
        "model = Conv2D(64, (4, 4), padding='same', kernel_initializer='he_normal')(model)\n",
        "model = Activation('relu')(model)\n",
        "model = Conv2D(64, (4, 4), padding='same', kernel_initializer='he_normal')(model)\n",
        "model = Activation('relu')(model)\n",
        "model = Conv2D(1, (4, 4), padding='same', kernel_initializer='he_normal')(model)\n",
        "\n",
        "res_img = model\n",
        "\n",
        "output_img = add([res_img, input_img])\n",
        "\n",
        "model = Model(input_img, output_img)\n",
        "\n",
        "adam = Adam(lr=0.00001)\n",
        "model.compile(adam, loss='mse', metrics=[tf.keras.metrics.MeanAbsoluteError()])\n",
        "\n",
        "# adapt path\n",
        "model.load_weights('/content/drive/My Drive/vdsr4dem/weights/vdsr4dem_4.h5')"
      ],
      "execution_count": 3,
      "outputs": []
    },
    {
      "cell_type": "markdown",
      "metadata": {
        "id": "saMMvLSAKy3X"
      },
      "source": [
        "Read all GeoTiffs from folder and process "
      ]
    },
    {
      "cell_type": "markdown",
      "metadata": {
        "id": "3M4onRoQas4Y"
      },
      "source": [
        "Skip the next step if rasterio is allready installed"
      ]
    },
    {
      "cell_type": "code",
      "metadata": {
        "id": "JodA0kVbarew"
      },
      "source": [
        "!pip install rasterio"
      ],
      "execution_count": null,
      "outputs": []
    },
    {
      "cell_type": "code",
      "metadata": {
        "id": "J9M0T6yiMr92",
        "colab": {
          "base_uri": "https://localhost:8080/"
        },
        "outputId": "b0c12c3f-e70e-47ef-d42b-4c555823a588"
      },
      "source": [
        "import os\n",
        "import sys\n",
        "import numpy as np\n",
        "import rasterio\n",
        "from tensorflow.python.data.experimental import AUTOTUNE\n",
        "from rasterio.plot import reshape_as_image, reshape_as_raster, show\n",
        "\n",
        "# adapt paths\n",
        "path = '/content/drive/My Drive/vdsr4dem/lr_test'\n",
        "path_out = '/content/drive/My Drive/vdsr4dem/sr_images'\n",
        "\n",
        "for file in os.listdir(path):\n",
        "    current = os.path.join(path, file)\n",
        "    print(current)\n",
        "    x, y = [], []\n",
        "    with rasterio.open(current) as src:\n",
        "        array = src.read(\n",
        "            out_shape=(\n",
        "                src.count,\n",
        "                int(src.height),\n",
        "                int(src.width)\n",
        "            )\n",
        "        )\n",
        "        profile = src.profile                \n",
        "    out_profile = src.profile.copy()\n",
        "    max_val = np.amax(array)\n",
        "    min_val = np.amin(array)\n",
        "    array = reshape_as_image(array)\n",
        "    lr = (array - min_val) / (max_val - min_val)\n",
        "    x = np.expand_dims(lr, axis=0)\n",
        "    out_array = model.predict(x)\n",
        "    srA = out_array\n",
        "    srA = srA * (max_val - min_val) + min_val\n",
        "    srA = np.squeeze(srA, axis=0)\n",
        "    #print(srA.shape)\n",
        "    print (\"sr :\", srA.dtype, \" shape \", srA.shape)\n",
        "    current_out = os.path.join(path_out, file)\n",
        "    with rasterio.open(current_out, 'w', **out_profile) as dst:\n",
        "        dst.write(reshape_as_raster(srA))\n",
        "print(\"finished\")"
      ],
      "execution_count": 9,
      "outputs": [
        {
          "output_type": "stream",
          "text": [
            "/content/drive/My Drive/vdsr4dem/lr_test/280020_377420.tif\n",
            "sr : float32  shape  (300, 300, 1)\n",
            "/content/drive/My Drive/vdsr4dem/lr_test/277020_366710.tif\n",
            "sr : float32  shape  (300, 300, 1)\n",
            "/content/drive/My Drive/vdsr4dem/lr_test/286740_368210.tif\n",
            "sr : float32  shape  (300, 300, 1)\n",
            "/content/drive/My Drive/vdsr4dem/lr_test/285840_357620.tif\n",
            "sr : float32  shape  (300, 300, 1)\n",
            "/content/drive/My Drive/vdsr4dem/lr_test/279900_371660.tif\n",
            "sr : float32  shape  (300, 300, 1)\n",
            "/content/drive/My Drive/vdsr4dem/lr_test/280920_366440.tif\n",
            "sr : float32  shape  (300, 300, 1)\n",
            "/content/drive/My Drive/vdsr4dem/lr_test/291690_365510.tif\n",
            "sr : float32  shape  (300, 300, 1)\n",
            "/content/drive/My Drive/vdsr4dem/lr_test/289290_376880.tif\n",
            "sr : float32  shape  (300, 300, 1)\n",
            "/content/drive/My Drive/vdsr4dem/lr_test/284910_361910.tif\n",
            "sr : float32  shape  (300, 300, 1)\n",
            "/content/drive/My Drive/vdsr4dem/lr_test/296490_366140.tif\n",
            "sr : float32  shape  (300, 300, 1)\n",
            "/content/drive/My Drive/vdsr4dem/lr_test/296790_371270.tif\n",
            "sr : float32  shape  (300, 300, 1)\n",
            "/content/drive/My Drive/vdsr4dem/lr_test/282630_377870.tif\n",
            "sr : float32  shape  (300, 300, 1)\n",
            "/content/drive/My Drive/vdsr4dem/lr_test/278250_361070.tif\n",
            "sr : float32  shape  (300, 300, 1)\n",
            "/content/drive/My Drive/vdsr4dem/lr_test/288960_359630.tif\n",
            "sr : float32  shape  (300, 300, 1)\n",
            "/content/drive/My Drive/vdsr4dem/lr_test/294840_359810.tif\n",
            "sr : float32  shape  (300, 300, 1)\n",
            "/content/drive/My Drive/vdsr4dem/lr_test/280290_362720.tif\n",
            "sr : float32  shape  (300, 300, 1)\n",
            "/content/drive/My Drive/vdsr4dem/lr_test/285660_385400.tif\n",
            "sr : float32  shape  (300, 300, 1)\n",
            "/content/drive/My Drive/vdsr4dem/lr_test/297090_361850.tif\n",
            "sr : float32  shape  (300, 300, 1)\n",
            "/content/drive/My Drive/vdsr4dem/lr_test/276870_366020.tif\n",
            "sr : float32  shape  (300, 300, 1)\n",
            "/content/drive/My Drive/vdsr4dem/lr_test/284940_364100.tif\n",
            "sr : float32  shape  (300, 300, 1)\n",
            "/content/drive/My Drive/vdsr4dem/lr_test/280080_377090.tif\n",
            "sr : float32  shape  (300, 300, 1)\n",
            "/content/drive/My Drive/vdsr4dem/lr_test/276420_377960.tif\n",
            "sr : float32  shape  (300, 300, 1)\n",
            "/content/drive/My Drive/vdsr4dem/lr_test/284340_373940.tif\n",
            "sr : float32  shape  (300, 300, 1)\n",
            "/content/drive/My Drive/vdsr4dem/lr_test/282030_376010.tif\n",
            "sr : float32  shape  (300, 300, 1)\n",
            "/content/drive/My Drive/vdsr4dem/lr_test/298020_378620.tif\n",
            "sr : float32  shape  (300, 300, 1)\n",
            "/content/drive/My Drive/vdsr4dem/lr_test/290400_358340.tif\n",
            "sr : float32  shape  (300, 300, 1)\n",
            "/content/drive/My Drive/vdsr4dem/lr_test/277380_357530.tif\n",
            "sr : float32  shape  (300, 300, 1)\n",
            "/content/drive/My Drive/vdsr4dem/lr_test/280740_380120.tif\n",
            "sr : float32  shape  (300, 300, 1)\n",
            "/content/drive/My Drive/vdsr4dem/lr_test/285180_385070.tif\n",
            "sr : float32  shape  (300, 300, 1)\n",
            "/content/drive/My Drive/vdsr4dem/lr_test/295290_366740.tif\n",
            "sr : float32  shape  (300, 300, 1)\n",
            "finished\n"
          ],
          "name": "stdout"
        }
      ]
    },
    {
      "cell_type": "markdown",
      "metadata": {
        "id": "_iHcBe9cMdfY"
      },
      "source": [
        "Statistics with test dataset\n",
        "--------------------------------------\n"
      ]
    },
    {
      "cell_type": "markdown",
      "metadata": {
        "id": "Mafz4IzJa1IJ"
      },
      "source": [
        "Skip the next step if rasterio is allready installed"
      ]
    },
    {
      "cell_type": "code",
      "metadata": {
        "colab": {
          "base_uri": "https://localhost:8080/"
        },
        "id": "QHgiUAh7a6IK",
        "outputId": "27355845-e36b-4261-fb2f-b51497073f16"
      },
      "source": [
        "!pip install rasterio"
      ],
      "execution_count": 4,
      "outputs": [
        {
          "output_type": "stream",
          "text": [
            "Collecting rasterio\n",
            "\u001b[?25l  Downloading https://files.pythonhosted.org/packages/33/1a/51baddc8581ead98fcef591624b4b2521b581943a9178912a2ac576e0235/rasterio-1.1.8-1-cp36-cp36m-manylinux1_x86_64.whl (18.3MB)\n",
            "\u001b[K     |████████████████████████████████| 18.3MB 261kB/s \n",
            "\u001b[?25hCollecting snuggs>=1.4.1\n",
            "  Downloading https://files.pythonhosted.org/packages/cc/0e/d27d6e806d6c0d1a2cfdc5d1f088e42339a0a54a09c3343f7f81ec8947ea/snuggs-1.4.7-py3-none-any.whl\n",
            "Collecting cligj>=0.5\n",
            "  Downloading https://files.pythonhosted.org/packages/42/1e/947eadf10d6804bf276eb8a038bd5307996dceaaa41cfd21b7a15ec62f5d/cligj-0.7.1-py3-none-any.whl\n",
            "Collecting click-plugins\n",
            "  Downloading https://files.pythonhosted.org/packages/e9/da/824b92d9942f4e472702488857914bdd50f73021efea15b4cad9aca8ecef/click_plugins-1.1.1-py2.py3-none-any.whl\n",
            "Requirement already satisfied: click<8,>=4.0 in /usr/local/lib/python3.6/dist-packages (from rasterio) (7.1.2)\n",
            "Requirement already satisfied: attrs in /usr/local/lib/python3.6/dist-packages (from rasterio) (20.3.0)\n",
            "Collecting affine\n",
            "  Downloading https://files.pythonhosted.org/packages/ac/a6/1a39a1ede71210e3ddaf623982b06ecfc5c5c03741ae659073159184cd3e/affine-2.3.0-py2.py3-none-any.whl\n",
            "Requirement already satisfied: numpy in /usr/local/lib/python3.6/dist-packages (from rasterio) (1.18.5)\n",
            "Requirement already satisfied: pyparsing>=2.1.6 in /usr/local/lib/python3.6/dist-packages (from snuggs>=1.4.1->rasterio) (2.4.7)\n",
            "Installing collected packages: snuggs, cligj, click-plugins, affine, rasterio\n",
            "Successfully installed affine-2.3.0 click-plugins-1.1.1 cligj-0.7.1 rasterio-1.1.8 snuggs-1.4.7\n"
          ],
          "name": "stdout"
        }
      ]
    },
    {
      "cell_type": "code",
      "metadata": {
        "colab": {
          "base_uri": "https://localhost:8080/"
        },
        "id": "FzFNr5E3AMIl",
        "outputId": "d0fc414a-5e92-4fa9-8828-b931918a9688"
      },
      "source": [
        "import os\n",
        "import sys\n",
        "import numpy as np\n",
        "from sklearn.metrics import mean_absolute_error\n",
        "from sklearn.metrics import mean_squared_error\n",
        "from skimage.metrics import peak_signal_noise_ratio\n",
        "from skimage.metrics import structural_similarity\n",
        "from keras.preprocessing.image import save_img\n",
        "import rasterio\n",
        "from tensorflow.python.data.experimental import AUTOTUNE\n",
        "from rasterio.plot import reshape_as_image, reshape_as_raster, show\n",
        "from rasterio import Affine\n",
        "from rasterio.enums import Resampling\n",
        "from numpy import savetxt\n",
        "\n",
        "# adapt paths\n",
        "path_lr = '/content/drive/My Drive/vdsr4dem/lr_test'\n",
        "path_hr = '/content/drive/My Drive/vdsr4dem/hr_test'\n",
        "\n",
        "meanAbsoluteError = []\n",
        "meanAbsoluteErrorCubic = []\n",
        "\n",
        "countMAE = 0\n",
        "countRMSE = 0\n",
        "countPSNR = 0\n",
        "countSSI = 0\n",
        "countMAESlice = 0\n",
        "countRMSESlice = 0\n",
        "countPSNRSlice = 0\n",
        "countSSISlice = 0\n",
        "totalMAE_lr = 0\n",
        "totalMAE_sr = 0\n",
        "totalRMSE_lr = 0\n",
        "totalRMSE_sr = 0\n",
        "totalMAX_lr = 0\n",
        "totalMAX_sr = 0\n",
        "fileCounter = 0 \n",
        "\n",
        "# read low resolution images\n",
        "for file in os.listdir(path_lr):\n",
        "    current = os.path.join(path_lr, file)\n",
        "    fileCounter += 1;\n",
        "    x, y = [], []\n",
        "    with rasterio.open(current) as src:\n",
        "        arrayLR = src.read(\n",
        "            out_shape=(\n",
        "                src.count,\n",
        "                int(src.height),\n",
        "                int(src.width)\n",
        "            )\n",
        "        )        \n",
        "    max_val_lr = np.amax(arrayLR)\n",
        "    min_val_lr = np.amin(arrayLR)\n",
        "    arrayLR = reshape_as_image(arrayLR)\n",
        "    nsamples, nx, ny = arrayLR.shape\n",
        "    arrayLR = arrayLR.reshape((nsamples,nx*ny))\n",
        "        \n",
        "    # process super resolution image\n",
        "    # normalize\n",
        "    lr4sr = (arrayLR - min_val_lr) / (max_val_lr - min_val_lr)\n",
        "    lr4sr = np.expand_dims(lr4sr, axis=0)\n",
        "    arraySR = model.predict(lr4sr)\n",
        "    # recalculate real world values for sr image\n",
        "    arraySR = arraySR * (max_val_lr - min_val_lr) + min_val_lr\n",
        "    arraySR = np.squeeze(arraySR, axis=0)\n",
        "    nsamples, nx, ny = arraySR.shape\n",
        "    arraySR = arraySR.reshape((nsamples,nx*ny))\n",
        "\n",
        "    # maximal value of sr image    \n",
        "    max_val_sr = np.amax(arraySR)\n",
        "\n",
        "    # load hr image to compare images    \n",
        "    currentHr = os.path.join(path_hr, file)\n",
        "    with rasterio.open(currentHr) as src:\n",
        "        arrayHR = src.read(\n",
        "            out_shape=(\n",
        "                src.count,\n",
        "                int(src.height),\n",
        "                int(src.width)\n",
        "            )\n",
        "        )\n",
        " \n",
        "    arrayHR = reshape_as_image(arrayHR)\n",
        "\n",
        "    nsamples, nx, ny = arrayHR.shape\n",
        "    arrayHR = arrayHR.reshape((nsamples,nx*ny))\n",
        "\n",
        "    # slice 15 pixels from border because border effects\n",
        "    slice_val = 15\n",
        "    HrSlice = arrayHR[slice_val:-slice_val, slice_val:-slice_val]\n",
        "    SrSlice = arraySR[slice_val:-slice_val, slice_val:-slice_val]\n",
        "    LrSlice = arrayLR[slice_val:-slice_val, slice_val:-slice_val]\n",
        "    \n",
        "    # calculate the metrics for sr image\n",
        "    MAE_sr = mean_absolute_error(arrayHR, arraySR)\n",
        "    RMSE_sr = mean_squared_error(arrayHR, arraySR, squared=False)\n",
        "    SSI_sr = structural_similarity(arrayHR, arraySR)\n",
        "    MAE_sr_slice = mean_absolute_error(HrSlice, SrSlice)\n",
        "    RMSE_sr_slice = mean_squared_error(HrSlice, SrSlice, squared=False)\n",
        "    SSI_sr_slice = structural_similarity(HrSlice, SrSlice)\n",
        "    MAX_sr = np.amax(abs(arrayHR - arraySR))\n",
        "    MAX_sr_slice = np.amax(abs(HrSlice - SrSlice))\n",
        "    # adapt data_range to the maximal overall value  of the dataset\n",
        "    PSNR_sr = peak_signal_noise_ratio(arrayHR, arraySR, data_range=3150)\n",
        "    PSNR_sr_slice = peak_signal_noise_ratio(HrSlice, SrSlice, data_range=3150)\n",
        "    \n",
        "    # calculate the metrics for lr image\n",
        "    MAE_lr = mean_absolute_error(arrayHR, arrayLR)\n",
        "    RMSE_lr = mean_squared_error(arrayHR, arrayLR, squared=False)\n",
        "    SSI_lr = structural_similarity(arrayHR, arrayLR)\n",
        "    MAE_lr_slice = mean_absolute_error(HrSlice, LrSlice)\n",
        "    RMSE_lr_slice = mean_squared_error(HrSlice, LrSlice, squared=False)\n",
        "    SSI_lr_slice = structural_similarity(HrSlice, LrSlice)\n",
        "    MAX_lr = np.amax(abs(arrayHR - arrayLR))\n",
        "    MAX_lr_slice = np.amax(abs(HrSlice - LrSlice))\n",
        "    # adapt data_range to the maximal overall value  of the dataset\n",
        "    PSNR_lr = peak_signal_noise_ratio(arrayHR, arrayLR, data_range=3150)\n",
        "    PSNR_lr_slice = peak_signal_noise_ratio(HrSlice, LrSlice, data_range=3150)\n",
        "    \n",
        "    # MAE count improved images\n",
        "    if MAE_sr < MAE_lr:\n",
        "        countMAE += 1\n",
        "    if MAE_sr_slice < MAE_lr_slice:\n",
        "        countMAESlice += 1    \n",
        "    # RMSE count improved images\n",
        "    if RMSE_sr < RMSE_lr:\n",
        "        countRMSE += 1\n",
        "    if RMSE_sr_slice < RMSE_lr_slice:\n",
        "        countRMSESlice += 1 \n",
        "    # PSNR count imporved images, higher values are better\n",
        "    if PSNR_sr > PSNR_lr:\n",
        "        countPSNR += 1\n",
        "    if PSNR_sr_slice > PSNR_lr_slice:\n",
        "        countPSNRSlice += 1    \n",
        "    # SSI count imporved images, higher values are better\n",
        "    if SSI_sr > SSI_lr:\n",
        "        countSSI += 1\n",
        "    if SSI_sr_slice > SSI_lr_slice:\n",
        "        countSSISlice += 1\n",
        "\n",
        "    totalMAE_lr = totalMAE_lr + MAE_lr_slice\n",
        "    totalMAE_sr = totalMAE_sr + MAE_sr_slice\n",
        "    totalRMSE_lr = totalRMSE_lr + RMSE_lr_slice\n",
        "    totalRMSE_sr = totalRMSE_sr + RMSE_sr_slice        \n",
        "    totalMAX_lr = totalMAX_lr + MAX_lr_slice\n",
        "    totalMAX_sr = totalMAX_sr + MAX_sr_slice \n",
        "\n",
        "    # print metrics for every tile if desired\n",
        "    #print(file ,' SR MaxError: ', MAX_sr_slice  ,' LR MaxError: ', MAX_lr_slice, ' Difference MaxError LR - SR: ', MAX_lr_slice - MAX_sr_slice)\n",
        "    #print(file ,' SR MAE: ', MAE_sr_slice ,' LR MAE: ', MAE_lr_slice, ' Difference LR - SR: ', MAE_lr_slice - MAE_sr_slice)\n",
        "    #print(file ,' SR RMSE: ', RMSE_sr_slice ,' LR RMSE: ', RMSE_lr_slice, ' Difference LR - SR: ', RMSE_lr_slice - RMSE_sr_slice)\n",
        "    #print(file ,' SR PSNR: ', PSNR_sr_slice ,' LR PSNR: ', PSNR_lr_slice, ' Difference LR - SR: ', PSNR_lr_slice - PSNR_sr_slice)\n",
        "\n",
        "print('Better results of',fileCounter,'test areas for MAE        ',countMAE)\n",
        "print('Better results of',fileCounter,'test areas for MAE sliced ',countMAESlice)\n",
        "print('Better results of',fileCounter,'test areas for RMSE       ',countRMSE)\n",
        "print('Better results of',fileCounter,'test areas for RMSE sliced',countRMSESlice)\n",
        "print('Better results of',fileCounter,'test areas for PNSR       ',countPSNR)\n",
        "print('Better results of',fileCounter,'test areas for PNSR sliced',countPSNRSlice)\n",
        "print('Better results of',fileCounter,'test areas for SSI        ',countSSI)\n",
        "print('Better results of',fileCounter,'test areas for SSI sliced ',countSSISlice)\n",
        "\n",
        "print('Mean MAE LR', totalMAE_lr/fileCounter);\n",
        "print('Mean MAE SR', totalMAE_sr/fileCounter);\n",
        "print('Difference LR - SR MAE ', totalMAE_lr/fileCounter - totalMAE_sr/fileCounter)\n",
        "print('Mean RMSE LR', totalRMSE_lr/fileCounter);\n",
        "print('Mean RMSE SR', totalRMSE_sr/fileCounter);\n",
        "print('Difference SR - LR RMSE ', totalRMSE_lr/fileCounter - totalRMSE_sr/fileCounter)\n",
        "print('MAX LR', totalMAX_lr/fileCounter);\n",
        "print('MAX SR', totalMAX_sr/fileCounter);\n",
        "print('Difference LR - SR MAX ', totalMAX_lr/fileCounter - totalMAX_sr/fileCounter)"
      ],
      "execution_count": 7,
      "outputs": [
        {
          "output_type": "stream",
          "text": [
            "Better results of 30 test areas for MAE         29\n",
            "Better results of 30 test areas for MAE sliced  17\n",
            "Better results of 30 test areas for RMSE        30\n",
            "Better results of 30 test areas for RMSE sliced 30\n",
            "Better results of 30 test areas for PNSR        30\n",
            "Better results of 30 test areas for PNSR sliced 30\n",
            "Better results of 30 test areas for SSI         23\n",
            "Better results of 30 test areas for SSI sliced  23\n",
            "Mean MAE LR 0.855532372991244\n",
            "Mean MAE SR 0.8560128390789032\n",
            "Difference LR - SR MAE  -0.00048046608765928145\n",
            "Mean RMSE LR 1.480201146999995\n",
            "Mean RMSE SR 1.4499177038669586\n",
            "Difference SR - LR RMSE  0.030283443133036325\n",
            "MAX LR 24.78179931640625\n",
            "MAX SR 24.43216349283854\n",
            "Difference LR - SR MAX  0.3496358235677093\n",
            "30\n"
          ],
          "name": "stdout"
        }
      ]
    }
  ]
}